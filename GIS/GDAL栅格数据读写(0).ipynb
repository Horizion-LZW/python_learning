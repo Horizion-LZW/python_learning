{
 "cells": [
  {
   "cell_type": "markdown",
   "metadata": {},
   "source": [
    "## 3.1 NumPy使用\n",
    "------------\n",
    "### 3.1.1 什么是NumPy？\n",
    "#### （1）简介\n",
    "NumPy是一个用Python实现的科学计算包。该工具可用来存储和处理大型矩阵，比Python自身的嵌套列表结构高效。主要包括：\n",
    "+ 强大的**N维数组**对象Array\n",
    "+ 成熟的**广播函数库**\n",
    "+ 用于整合**C/C++** 和Fortran代码的工具包\n",
    "+ 实用的**线性代数、傅里叶变换和随机数生成函数**\n",
    "\n",
    "Numpy的特点：\n",
    "+ 运算速度快：采用C语言编写\n",
    "+ 消耗资源少：采用矩阵预算，比Python自带的字典和列表快很多\n",
    "\n",
    "#### （2） Numpy和原生Python的效率比较\n",
    "通过“向量加法”案例比较代码量和效率两个方面\n",
    "\n",
    "+ **代码可读性比较**\n",
    "\n",
    "纯Python写法：\n",
    "\n"
   ]
  },
  {
   "cell_type": "code",
   "execution_count": 1,
   "metadata": {},
   "outputs": [],
   "source": [
    "# pure Python code\n",
    "def python_sum(n):    \n",
    "    # a = range(n)\n",
    "    a = list(range(n))\n",
    "    b = list(range(n))\n",
    "    #print('a:', a)\n",
    "    #print('b:', b)\n",
    "    result = []\n",
    "    for i in range(len(a)):\n",
    "        result.append(a[i] + b[i])\n",
    "    #print('result:', result)\n",
    "    return result\n",
    "\n",
    "res = python_sum(10)\n"
   ]
  },
  {
   "cell_type": "markdown",
   "metadata": {},
   "source": [
    "Numpy写法："
   ]
  },
  {
   "cell_type": "code",
   "execution_count": 2,
   "metadata": {},
   "outputs": [],
   "source": [
    "import numpy as np\n",
    "def numpy_sum(n):\n",
    "    a = np.arange(n)\n",
    "    b = np.arange(n)\n",
    "    #print('a:', a)\n",
    "    #print('b:', b)\n",
    "    result = a + b\n",
    "    #print('result:', result)\n",
    "    return result\n",
    "res = numpy_sum(10)\n"
   ]
  },
  {
   "cell_type": "code",
   "execution_count": 3,
   "metadata": {},
   "outputs": [
    {
     "data": {
      "text/plain": [
       "array([0, 4, 8])"
      ]
     },
     "execution_count": 3,
     "metadata": {},
     "output_type": "execute_result"
    }
   ],
   "source": [
    "np.arange(10, step=4)"
   ]
  },
  {
   "cell_type": "code",
   "execution_count": 4,
   "metadata": {},
   "outputs": [
    {
     "name": "stdout",
     "output_type": "stream",
     "text": [
      "Help on built-in function arange in module numpy:\n",
      "\n",
      "arange(...)\n",
      "    arange([start,] stop[, step,], dtype=None, *, like=None)\n",
      "    \n",
      "    Return evenly spaced values within a given interval.\n",
      "    \n",
      "    Values are generated within the half-open interval ``[start, stop)``\n",
      "    (in other words, the interval including `start` but excluding `stop`).\n",
      "    For integer arguments the function is equivalent to the Python built-in\n",
      "    `range` function, but returns an ndarray rather than a list.\n",
      "    \n",
      "    When using a non-integer step, such as 0.1, the results will often not\n",
      "    be consistent.  It is better to use `numpy.linspace` for these cases.\n",
      "    \n",
      "    Parameters\n",
      "    ----------\n",
      "    start : integer or real, optional\n",
      "        Start of interval.  The interval includes this value.  The default\n",
      "        start value is 0.\n",
      "    stop : integer or real\n",
      "        End of interval.  The interval does not include this value, except\n",
      "        in some cases where `step` is not an integer and floating point\n",
      "        round-off affects the length of `out`.\n",
      "    step : integer or real, optional\n",
      "        Spacing between values.  For any output `out`, this is the distance\n",
      "        between two adjacent values, ``out[i+1] - out[i]``.  The default\n",
      "        step size is 1.  If `step` is specified as a position argument,\n",
      "        `start` must also be given.\n",
      "    dtype : dtype\n",
      "        The type of the output array.  If `dtype` is not given, infer the data\n",
      "        type from the other input arguments.\n",
      "    like : array_like\n",
      "        Reference object to allow the creation of arrays which are not\n",
      "        NumPy arrays. If an array-like passed in as ``like`` supports\n",
      "        the ``__array_function__`` protocol, the result will be defined\n",
      "        by it. In this case, it ensures the creation of an array object\n",
      "        compatible with that passed in via this argument.\n",
      "    \n",
      "        .. note::\n",
      "            The ``like`` keyword is an experimental feature pending on\n",
      "            acceptance of :ref:`NEP 35 <NEP35>`.\n",
      "    \n",
      "        .. versionadded:: 1.20.0\n",
      "    \n",
      "    Returns\n",
      "    -------\n",
      "    arange : ndarray\n",
      "        Array of evenly spaced values.\n",
      "    \n",
      "        For floating point arguments, the length of the result is\n",
      "        ``ceil((stop - start)/step)``.  Because of floating point overflow,\n",
      "        this rule may result in the last element of `out` being greater\n",
      "        than `stop`.\n",
      "    \n",
      "    See Also\n",
      "    --------\n",
      "    numpy.linspace : Evenly spaced numbers with careful handling of endpoints.\n",
      "    numpy.ogrid: Arrays of evenly spaced numbers in N-dimensions.\n",
      "    numpy.mgrid: Grid-shaped arrays of evenly spaced numbers in N-dimensions.\n",
      "    \n",
      "    Examples\n",
      "    --------\n",
      "    >>> np.arange(3)\n",
      "    array([0, 1, 2])\n",
      "    >>> np.arange(3.0)\n",
      "    array([ 0.,  1.,  2.])\n",
      "    >>> np.arange(3,7)\n",
      "    array([3, 4, 5, 6])\n",
      "    >>> np.arange(3,7,2)\n",
      "    array([3, 5])\n",
      "\n"
     ]
    }
   ],
   "source": [
    "help(np.arange)"
   ]
  },
  {
   "cell_type": "markdown",
   "metadata": {},
   "source": [
    "+ **计算速度比较**"
   ]
  },
  {
   "cell_type": "code",
   "execution_count": 11,
   "metadata": {},
   "outputs": [
    {
     "name": "stdout",
     "output_type": "stream",
     "text": [
      "python_sum: 0:00:00.104752\n",
      "numpy_sum: 0:00:00.001994\n",
      "======================\n",
      "52.53360080240722\n"
     ]
    }
   ],
   "source": [
    "import sys\n",
    "from datetime import datetime\n",
    "import numpy as np\n",
    "\n",
    "size = 500000\n",
    "start = datetime.now()\n",
    "c = python_sum(size)\n",
    "delta1 = datetime.now() - start\n",
    "print('python_sum:', delta1)\n",
    "\n",
    "start = datetime.now()\n",
    "d = numpy_sum(size)\n",
    "delta2 = datetime.now() - start\n",
    "print('numpy_sum:', delta2)\n",
    "\n",
    "print(\"======================\")\n",
    "print(delta1/delta2)"
   ]
  },
  {
   "cell_type": "markdown",
   "metadata": {},
   "source": [
    "### 3.1.2 Numpy基础\n",
    "#### (1) 创建Numpy数组\n",
    "在上一节已经创建了一个有序的一维数组，使用到了np.arange(n)，该函数和Python中的列表一样，从0开始，在默认的情况下步长为1。Numpy还可以创建通用的数组和特殊数组。\n",
    "+ array：创建普通数组\n",
    "+ zeros：创建数据全为0\n",
    "+ ones：创建数据全为1\n",
    "+ empty：创建数据全为空\n",
    "+ linspace：创建线性变化的数组\n",
    "+ reshape：改变数组的形状\n",
    "+ 随机矩阵：```np.random.random((2,4))```(最基本的)\n",
    "\n",
    "Numpy创建的数组是一个数组对象，该对象中包含了两个部分：\n",
    "+ 实际的数据\n",
    "+ 描述这些数据的元数据"
   ]
  },
  {
   "cell_type": "code",
   "execution_count": 13,
   "metadata": {},
   "outputs": [
    {
     "data": {
      "text/plain": [
       "array([2, 3, 4])"
      ]
     },
     "execution_count": 13,
     "metadata": {},
     "output_type": "execute_result"
    }
   ],
   "source": [
    "np.array([2,3,4])\n"
   ]
  },
  {
   "cell_type": "code",
   "execution_count": 15,
   "metadata": {},
   "outputs": [
    {
     "data": {
      "text/plain": [
       "array([0.2, 0.3, 5. ])"
      ]
     },
     "execution_count": 15,
     "metadata": {},
     "output_type": "execute_result"
    }
   ],
   "source": [
    "np.array([0.2,0.3,5],dtype=np.float64)"
   ]
  },
  {
   "cell_type": "code",
   "execution_count": 17,
   "metadata": {},
   "outputs": [
    {
     "data": {
      "text/plain": [
       "array([[ 1, 15, 20],\n",
       "       [20,  2, 90]])"
      ]
     },
     "execution_count": 17,
     "metadata": {},
     "output_type": "execute_result"
    }
   ],
   "source": [
    "np.array([[1,15,20],\n",
    "          [20,2,90]])"
   ]
  },
  {
   "cell_type": "code",
   "execution_count": 18,
   "metadata": {},
   "outputs": [
    {
     "data": {
      "text/plain": [
       "array([[0., 0., 0., 0.],\n",
       "       [0., 0., 0., 0.],\n",
       "       [0., 0., 0., 0.]])"
      ]
     },
     "execution_count": 18,
     "metadata": {},
     "output_type": "execute_result"
    }
   ],
   "source": [
    "np.zeros((3,4))"
   ]
  },
  {
   "cell_type": "code",
   "execution_count": 19,
   "metadata": {},
   "outputs": [
    {
     "data": {
      "text/plain": [
       "array([[1., 1., 1., 1.],\n",
       "       [1., 1., 1., 1.],\n",
       "       [1., 1., 1., 1.]], dtype=float32)"
      ]
     },
     "execution_count": 19,
     "metadata": {},
     "output_type": "execute_result"
    }
   ],
   "source": [
    "np.ones((3,4),dtype=np.float32)"
   ]
  },
  {
   "cell_type": "code",
   "execution_count": 20,
   "metadata": {},
   "outputs": [
    {
     "data": {
      "text/plain": [
       "array([[0., 0., 0., 0.],\n",
       "       [0., 0., 0., 0.],\n",
       "       [0., 0., 0., 0.]])"
      ]
     },
     "execution_count": 20,
     "metadata": {},
     "output_type": "execute_result"
    }
   ],
   "source": [
    "np.empty((3,4))"
   ]
  },
  {
   "cell_type": "code",
   "execution_count": 23,
   "metadata": {},
   "outputs": [
    {
     "data": {
      "text/plain": [
       "array([ 0.,  5., 10., 15., 20., 25., 30., 35., 40., 45., 50., 55., 60.,\n",
       "       65., 70., 75., 80., 85., 90., 95.])"
      ]
     },
     "execution_count": 23,
     "metadata": {},
     "output_type": "execute_result"
    }
   ],
   "source": [
    "np.linspace(0, 100, 20, endpoint=False) #参数分别是起始数，终止数，数目"
   ]
  },
  {
   "cell_type": "code",
   "execution_count": 25,
   "metadata": {},
   "outputs": [
    {
     "name": "stdout",
     "output_type": "stream",
     "text": [
      "[[ 0  1  2  3]\n",
      " [ 4  5  6  7]\n",
      " [ 8  9 10 11]]\n"
     ]
    }
   ],
   "source": [
    "a = np.arange(12).reshape((3,4))\n",
    "print(a)"
   ]
  },
  {
   "cell_type": "code",
   "execution_count": 26,
   "metadata": {},
   "outputs": [
    {
     "data": {
      "text/plain": [
       "9"
      ]
     },
     "execution_count": 26,
     "metadata": {},
     "output_type": "execute_result"
    }
   ],
   "source": [
    "a[2,1]"
   ]
  },
  {
   "cell_type": "code",
   "execution_count": 30,
   "metadata": {},
   "outputs": [
    {
     "name": "stdout",
     "output_type": "stream",
     "text": [
      "[[0.03077402 0.17691179 0.7646126 ]\n",
      " [0.71370554 0.63638371 0.63997957]]\n",
      "<class 'numpy.ndarray'>\n"
     ]
    }
   ],
   "source": [
    "a = np.random.random( (2,3) )\n",
    "print(a)\n",
    "print(type(a))"
   ]
  },
  {
   "cell_type": "markdown",
   "metadata": {},
   "source": [
    "#### (2) Numpy数组的属性、索引与切片\n",
    "**属性**\n",
    "\n",
    "描述数组的元数据我们可以称之为属性，常用属性如下：\n",
    "+ ndim：获取数组的**维度数**。\n",
    "+ shape：获取数组的**行数和列数**。\n",
    "+ size：数组中一共有几个元素，即**元素个数**。\n",
    "+ itemsize：获取数组中的元素在内存中**单个元素所占的字节数**。\n",
    "+ nbytes：整个数组所占的**存储空间**，即itemsize\\* size。\n",
    "+ flat：返回一个numpy.flatiter对象，即“**扁平迭代器**”可以像遍历一维数组一样去遍历任意的多维数组，示例代码见后文。\n",
    "+ T：**多维数组转置**，但是特殊的是一维数组，T属性还是它本身。"
   ]
  },
  {
   "cell_type": "code",
   "execution_count": 34,
   "metadata": {},
   "outputs": [
    {
     "name": "stdout",
     "output_type": "stream",
     "text": [
      "[[0.92947088 0.27552814 0.27669168 0.53772134]\n",
      " [0.67416675 0.55094395 0.41929846 0.94952037]]\n",
      "2\n",
      "(2, 4)\n",
      "8\n",
      "8\n",
      "64\n",
      "[[0.92947088 0.67416675]\n",
      " [0.27552814 0.55094395]\n",
      " [0.27669168 0.41929846]\n",
      " [0.53772134 0.94952037]]\n"
     ]
    }
   ],
   "source": [
    "a = np.random.random((2,4))\n",
    "print(a)\n",
    "print(a.ndim)\n",
    "print(a.shape)\n",
    "print(a.size)\n",
    "print(a.itemsize)\n",
    "print(a.nbytes)\n",
    "\n",
    "print(a.T)"
   ]
  },
  {
   "cell_type": "code",
   "execution_count": 35,
   "metadata": {},
   "outputs": [
    {
     "name": "stdout",
     "output_type": "stream",
     "text": [
      "[0 1 2 3 4]\n",
      "[0 1 2 3 4]\n",
      "[[0]\n",
      " [1]\n",
      " [2]\n",
      " [3]\n",
      " [4]]\n"
     ]
    }
   ],
   "source": [
    "\n",
    "# 一维向量转置 示例代码：\n",
    "a = np.arange(5)\n",
    "print(a)\n",
    "# 一维数组T转置为本身\n",
    "print(a.T)\n",
    "\n",
    "# 一维数组的转置\n",
    "print(a.reshape(len(a),1))"
   ]
  },
  {
   "cell_type": "code",
   "execution_count": 36,
   "metadata": {},
   "outputs": [
    {
     "name": "stdout",
     "output_type": "stream",
     "text": [
      "[[ 0  1  2  3  4  5]\n",
      " [ 6  7  8  9 10 11]\n",
      " [12 13 14 15 16 17]]\n",
      "[0 1 2 3 4 5]\n",
      "[ 6  7  8  9 10 11]\n",
      "[12 13 14 15 16 17]\n",
      "0\n",
      "1\n",
      "2\n",
      "3\n",
      "4\n",
      "5\n",
      "6\n",
      "7\n",
      "8\n",
      "9\n",
      "10\n",
      "11\n",
      "12\n",
      "13\n",
      "14\n",
      "15\n",
      "16\n",
      "17\n"
     ]
    }
   ],
   "source": [
    "# 扁平迭代器示例代码：\n",
    "a = np.arange(18).reshape(3,6)\n",
    "print(a)\n",
    "\n",
    "# 按照维度输出\n",
    "for item in a: \n",
    "    print(item)\n",
    "# 按照元素输出\n",
    "for item in a.flat: \n",
    "    print(item)\n"
   ]
  },
  {
   "cell_type": "markdown",
   "metadata": {},
   "source": [
    "（2）索引与切片\n",
    "一些特殊的索引与切片表达方式：\n",
    "+ ```A[1][4]```等价于```A[1,4]```\n",
    "+ ```A[1,1:3]```表示第二行的第二个数到第三个数"
   ]
  },
  {
   "cell_type": "code",
   "execution_count": 38,
   "metadata": {},
   "outputs": [
    {
     "data": {
      "text/plain": [
       "10"
      ]
     },
     "execution_count": 38,
     "metadata": {},
     "output_type": "execute_result"
    }
   ],
   "source": [
    "a[1][4]"
   ]
  },
  {
   "cell_type": "code",
   "execution_count": 40,
   "metadata": {},
   "outputs": [
    {
     "data": {
      "text/plain": [
       "10"
      ]
     },
     "execution_count": 40,
     "metadata": {},
     "output_type": "execute_result"
    }
   ],
   "source": [
    "a[1,4]"
   ]
  },
  {
   "cell_type": "code",
   "execution_count": 41,
   "metadata": {},
   "outputs": [
    {
     "data": {
      "text/plain": [
       "array([[ 0,  1,  2,  3,  4,  5],\n",
       "       [ 6,  7,  8,  9, 10, 11],\n",
       "       [12, 13, 14, 15, 16, 17]])"
      ]
     },
     "execution_count": 41,
     "metadata": {},
     "output_type": "execute_result"
    }
   ],
   "source": [
    "a"
   ]
  },
  {
   "cell_type": "code",
   "execution_count": 28,
   "metadata": {},
   "outputs": [
    {
     "data": {
      "text/plain": [
       "array([[ 7,  8],\n",
       "       [13, 14]])"
      ]
     },
     "execution_count": 28,
     "metadata": {},
     "output_type": "execute_result"
    }
   ],
   "source": [
    "a[1:3,1:3]"
   ]
  },
  {
   "cell_type": "markdown",
   "metadata": {},
   "source": [
    "#### (3) Numpy初阶运算\n",
    "+ **逻辑判断**运算返回Ture或者False\n",
    "+ 矩阵基本的**加减乘除**不在话下\n",
    "+ **n次方**使用```**n```\n",
    "+ 对矩阵每一个元素进行**函数运算**：```b=10*np.sin(a)```\n",
    "+ 特别注意：**两种乘法**\n",
    "+ ```axis```查找运算\n",
    "+ **反求索引**：```argmin()``` 和```argmax()```两个函数分别对应着求矩阵中最小元素和最大元素的索引\n",
    "+ **累加函数**：cumsum()\n",
    "+ **累差函数**：diff()\n",
    "\n",
    "说明：初阶运算主要是一些简单运算和函数的使用，后文高阶运算主要是线性代数方面的矩阵计算。\n"
   ]
  },
  {
   "cell_type": "code",
   "execution_count": 44,
   "metadata": {},
   "outputs": [
    {
     "name": "stdout",
     "output_type": "stream",
     "text": [
      "a\n",
      " [[1 2]\n",
      " [3 4]]\n",
      "b\n",
      " [[1 2]\n",
      " [2 1]]\n",
      "a*b\n",
      " [[1 4]\n",
      " [6 4]]\n",
      "b*a\n",
      " [[1 4]\n",
      " [6 4]]\n",
      "a.dot(b)\n",
      " [[ 5  4]\n",
      " [11 10]]\n",
      "b.dot(a)\n",
      " [[ 7 10]\n",
      " [ 5  8]]\n"
     ]
    }
   ],
   "source": [
    "#两种乘法的示例代码：\n",
    "a = np.array([1,2,3,4]).reshape(2,2)\n",
    "b = np.array([1,2,2,1]).reshape(2,2)\n",
    "\n",
    "print('a\\n',a)\n",
    "print('b\\n',b)\n",
    "# 元素与对应位置的元素相乘\n",
    "print('a*b\\n', a*b)\n",
    "print('b*a\\n', b*a)\n",
    "\n",
    "# 矩阵乘法\n",
    "print('a.dot(b)\\n', a.dot(b))\n",
    "print('b.dot(a)\\n', b.dot(a))\n"
   ]
  },
  {
   "cell_type": "code",
   "execution_count": 45,
   "metadata": {},
   "outputs": [
    {
     "data": {
      "text/plain": [
       "4"
      ]
     },
     "execution_count": 45,
     "metadata": {},
     "output_type": "execute_result"
    }
   ],
   "source": [
    "x = np.array([1, 2, 4, 7, 0])\n",
    "np.argmin(x)"
   ]
  },
  {
   "cell_type": "code",
   "execution_count": 47,
   "metadata": {},
   "outputs": [
    {
     "data": {
      "text/plain": [
       "3"
      ]
     },
     "execution_count": 47,
     "metadata": {},
     "output_type": "execute_result"
    }
   ],
   "source": [
    "np.argmax(x)"
   ]
  },
  {
   "cell_type": "code",
   "execution_count": 48,
   "metadata": {},
   "outputs": [
    {
     "data": {
      "text/plain": [
       "(0, 7)"
      ]
     },
     "execution_count": 48,
     "metadata": {},
     "output_type": "execute_result"
    }
   ],
   "source": [
    "np.min(x), np.max(x)"
   ]
  },
  {
   "cell_type": "code",
   "execution_count": 49,
   "metadata": {},
   "outputs": [
    {
     "data": {
      "text/plain": [
       "array([ 1,  3,  7, 14, 14], dtype=int32)"
      ]
     },
     "execution_count": 49,
     "metadata": {},
     "output_type": "execute_result"
    }
   ],
   "source": [
    "np.cumsum(x)"
   ]
  },
  {
   "cell_type": "code",
   "execution_count": 51,
   "metadata": {},
   "outputs": [
    {
     "data": {
      "text/plain": [
       "array([ 1,  2,  3, -7])"
      ]
     },
     "execution_count": 51,
     "metadata": {},
     "output_type": "execute_result"
    }
   ],
   "source": [
    "np.diff(x)"
   ]
  },
  {
   "cell_type": "code",
   "execution_count": 52,
   "metadata": {},
   "outputs": [
    {
     "name": "stdout",
     "output_type": "stream",
     "text": [
      "Help on function diff in module numpy:\n",
      "\n",
      "diff(a, n=1, axis=-1, prepend=<no value>, append=<no value>)\n",
      "    Calculate the n-th discrete difference along the given axis.\n",
      "    \n",
      "    The first difference is given by ``out[i] = a[i+1] - a[i]`` along\n",
      "    the given axis, higher differences are calculated by using `diff`\n",
      "    recursively.\n",
      "    \n",
      "    Parameters\n",
      "    ----------\n",
      "    a : array_like\n",
      "        Input array\n",
      "    n : int, optional\n",
      "        The number of times values are differenced. If zero, the input\n",
      "        is returned as-is.\n",
      "    axis : int, optional\n",
      "        The axis along which the difference is taken, default is the\n",
      "        last axis.\n",
      "    prepend, append : array_like, optional\n",
      "        Values to prepend or append to `a` along axis prior to\n",
      "        performing the difference.  Scalar values are expanded to\n",
      "        arrays with length 1 in the direction of axis and the shape\n",
      "        of the input array in along all other axes.  Otherwise the\n",
      "        dimension and shape must match `a` except along axis.\n",
      "    \n",
      "        .. versionadded:: 1.16.0\n",
      "    \n",
      "    Returns\n",
      "    -------\n",
      "    diff : ndarray\n",
      "        The n-th differences. The shape of the output is the same as `a`\n",
      "        except along `axis` where the dimension is smaller by `n`. The\n",
      "        type of the output is the same as the type of the difference\n",
      "        between any two elements of `a`. This is the same as the type of\n",
      "        `a` in most cases. A notable exception is `datetime64`, which\n",
      "        results in a `timedelta64` output array.\n",
      "    \n",
      "    See Also\n",
      "    --------\n",
      "    gradient, ediff1d, cumsum\n",
      "    \n",
      "    Notes\n",
      "    -----\n",
      "    Type is preserved for boolean arrays, so the result will contain\n",
      "    `False` when consecutive elements are the same and `True` when they\n",
      "    differ.\n",
      "    \n",
      "    For unsigned integer arrays, the results will also be unsigned. This\n",
      "    should not be surprising, as the result is consistent with\n",
      "    calculating the difference directly:\n",
      "    \n",
      "    >>> u8_arr = np.array([1, 0], dtype=np.uint8)\n",
      "    >>> np.diff(u8_arr)\n",
      "    array([255], dtype=uint8)\n",
      "    >>> u8_arr[1,...] - u8_arr[0,...]\n",
      "    255\n",
      "    \n",
      "    If this is not desirable, then the array should be cast to a larger\n",
      "    integer type first:\n",
      "    \n",
      "    >>> i16_arr = u8_arr.astype(np.int16)\n",
      "    >>> np.diff(i16_arr)\n",
      "    array([-1], dtype=int16)\n",
      "    \n",
      "    Examples\n",
      "    --------\n",
      "    >>> x = np.array([1, 2, 4, 7, 0])\n",
      "    >>> np.diff(x)\n",
      "    array([ 1,  2,  3, -7])\n",
      "    >>> np.diff(x, n=2)\n",
      "    array([  1,   1, -10])\n",
      "    \n",
      "    >>> x = np.array([[1, 3, 6, 10], [0, 5, 6, 8]])\n",
      "    >>> np.diff(x)\n",
      "    array([[2, 3, 4],\n",
      "           [5, 1, 2]])\n",
      "    >>> np.diff(x, axis=0)\n",
      "    array([[-1,  2,  0, -2]])\n",
      "    \n",
      "    >>> x = np.arange('1066-10-13', '1066-10-16', dtype=np.datetime64)\n",
      "    >>> np.diff(x)\n",
      "    array([1, 1], dtype='timedelta64[D]')\n",
      "\n"
     ]
    }
   ],
   "source": [
    "help(np.diff)"
   ]
  },
  {
   "cell_type": "markdown",
   "metadata": {},
   "source": [
    "**axis查找运算**的示例代码：\n",
    "\n",
    "如果你需要对行或者列进行查找运算，当axis的值为0的时候，将会以列作为查找单元， 当axis的值为1的时候，将会以行作为查找单元。\n",
    "+ **0->行**\n",
    "+ **1->列**"
   ]
  },
  {
   "cell_type": "code",
   "execution_count": 36,
   "metadata": {},
   "outputs": [
    {
     "name": "stdout",
     "output_type": "stream",
     "text": [
      "[[0.55543714 0.8902911  0.09030381 0.01640017]\n",
      " [0.61533283 0.61796788 0.52268143 0.48740606]]\n",
      "sum= 3.795820427074635\n",
      "sum= [1.17076998 1.50825898 0.61298524 0.50380623]\n",
      "sum= [1.55243222 2.2433882 ]\n",
      "min= [0.01640017 0.48740606]\n"
     ]
    }
   ],
   "source": [
    "a_random = np.random.random((2,4))\n",
    "print(a_random)\n",
    "print(\"sum=\", np.sum(a_random))\n",
    "print(\"sum=\", np.sum(a_random,axis=0))\n",
    "print(\"sum=\", np.sum(a_random,axis=1))\n",
    "\n",
    "print(\"min=\", np.min(a_random,axis=1))"
   ]
  },
  {
   "cell_type": "markdown",
   "metadata": {},
   "source": [
    "#### (4) Numpy数组的合并与分割\n",
    "**合并**\n",
    "+ 上下合并：vstack\n",
    "+ 左右合并：hstack\n",
    "+ 通过axis指定合并方式：concatenate"
   ]
  },
  {
   "cell_type": "code",
   "execution_count": 53,
   "metadata": {},
   "outputs": [],
   "source": [
    "a = np.arange(4).reshape(2,2)\n",
    "b = np.arange(4).reshape(2,2)\n",
    "b2 = np.arange(4).reshape(2,2)\n",
    "\n",
    "c = np.vstack((a,b,b2))\n",
    "d = np.hstack((a,b))\n",
    "e = np.concatenate((a,b),axis=0)\n",
    "f = np.concatenate((a,b),axis=1)"
   ]
  },
  {
   "cell_type": "code",
   "execution_count": 38,
   "metadata": {},
   "outputs": [
    {
     "name": "stdout",
     "output_type": "stream",
     "text": [
      "[[0 1]\n",
      " [2 3]]\n",
      "[[0 1]\n",
      " [2 3]]\n",
      "[[0 1]\n",
      " [2 3]\n",
      " [0 1]\n",
      " [2 3]\n",
      " [0 1]\n",
      " [2 3]]\n",
      "[[0 1 0 1]\n",
      " [2 3 2 3]]\n",
      "[[0 1]\n",
      " [2 3]\n",
      " [0 1]\n",
      " [2 3]]\n",
      "[[0 1 0 1]\n",
      " [2 3 2 3]]\n"
     ]
    }
   ],
   "source": [
    "print(a)\n",
    "print(b)\n",
    "print(c)\n",
    "print(d)\n",
    "print(e)\n",
    "print(f)"
   ]
  },
  {
   "cell_type": "markdown",
   "metadata": {},
   "source": [
    "**分割**\n",
    "+ 等量分割\n",
    "\t+ 纵向等量分割\n",
    "\t+ 横向等量分割\n",
    "+ 不等量分割的错误示例\n",
    "+ 不等量分割\n",
    "+ 其他分割\n",
    "\t+ 横向分割\n",
    "\t+ 纵向分割"
   ]
  },
  {
   "cell_type": "code",
   "execution_count": 54,
   "metadata": {},
   "outputs": [
    {
     "name": "stdout",
     "output_type": "stream",
     "text": [
      "[[ 0  1  2  3]\n",
      " [ 4  5  6  7]\n",
      " [ 8  9 10 11]]\n",
      "[array([[0, 1, 2, 3]]), array([[4, 5, 6, 7]]), array([[ 8,  9, 10, 11]])]\n",
      "[array([[0, 1],\n",
      "       [4, 5],\n",
      "       [8, 9]]), array([[ 2,  3],\n",
      "       [ 6,  7],\n",
      "       [10, 11]])]\n",
      "[array([[0, 1, 2, 3]]), array([[4, 5, 6, 7]]), array([[ 8,  9, 10, 11]])]\n"
     ]
    }
   ],
   "source": [
    "a = np.arange(12).reshape((3,4))\n",
    "print(a)\n",
    "\n",
    "print(np.split(a, 3, axis=0))\n",
    "print(np.split(a, 2, axis=1))\n",
    "print(np.array_split(a, 3, axis=0))\n"
   ]
  },
  {
   "cell_type": "code",
   "execution_count": 40,
   "metadata": {},
   "outputs": [],
   "source": [
    "# 错误的示例\n",
    "#print(np.split(a, 3, axis=1))"
   ]
  },
  {
   "cell_type": "code",
   "execution_count": 41,
   "metadata": {},
   "outputs": [
    {
     "name": "stdout",
     "output_type": "stream",
     "text": [
      "[array([[0, 1, 2, 3]]), array([[4, 5, 6, 7]]), array([[ 8,  9, 10, 11]])]\n",
      "[array([[0, 1],\n",
      "       [4, 5],\n",
      "       [8, 9]]), array([[ 2,  3],\n",
      "       [ 6,  7],\n",
      "       [10, 11]])]\n"
     ]
    }
   ],
   "source": [
    "print(np.vsplit(a, 3))\n",
    "print(np.hsplit(a, 2))"
   ]
  },
  {
   "cell_type": "markdown",
   "metadata": {},
   "source": [
    "\n",
    "#### (5) Numpy的深拷贝\n",
    "Python中的赋值、深拷贝和浅拷贝三者之间的区别是Python中一个比较难的问题，暂时不考虑，本节只需要理解一下两点：\n",
    "+ ```=``` 的赋值方式会带**有关联性**\n",
    "+ ```copy()```的赋值方式**没有关联性**"
   ]
  },
  {
   "cell_type": "code",
   "execution_count": 55,
   "metadata": {},
   "outputs": [
    {
     "name": "stdout",
     "output_type": "stream",
     "text": [
      "[0 1 2 3]\n"
     ]
    }
   ],
   "source": [
    "\n",
    "a = np.arange(4)\n",
    "print(a)\n",
    "# 深拷贝：无关联性\n",
    "b = a.copy()\n",
    "\n",
    "\n",
    "# 赋值：有关联性\n",
    "c = a\n",
    "\n"
   ]
  },
  {
   "cell_type": "code",
   "execution_count": 43,
   "metadata": {},
   "outputs": [
    {
     "name": "stdout",
     "output_type": "stream",
     "text": [
      "[  0   1   2 888]\n",
      "[0 1 2 3]\n",
      "[  0   1   2 888]\n"
     ]
    }
   ],
   "source": [
    "# 观察关联性\n",
    "a[3] = 888\n",
    "\n",
    "print(a)\n",
    "print(b)\n",
    "print(c)\n"
   ]
  },
  {
   "cell_type": "markdown",
   "metadata": {},
   "source": [
    "## 3.2 GDAL读写文件\n",
    "------------\n",
    "### 3.2.1 读文件"
   ]
  },
  {
   "cell_type": "code",
   "execution_count": 56,
   "metadata": {},
   "outputs": [
    {
     "name": "stdout",
     "output_type": "stream",
     "text": [
      "[[ 42  40  38 ...  37  41  44]\n",
      " [ 44  43  41 ...  39  39  43]\n",
      " [ 43  46  45 ...  37  39  44]\n",
      " ...\n",
      " [319 327 330 ...  53  52  50]\n",
      " [339 361 376 ...  54  52  52]\n",
      " [356 391 413 ...  55  54  55]]\n",
      "<class 'numpy.ndarray'>\n"
     ]
    }
   ],
   "source": [
    "from osgeo import gdal\n",
    "filename = r'D:\\course\\open-source-gis\\2017\\notebook\\data\\dem\\dem_fengle.tif'\n",
    "ds = gdal.Open(filename)   #得到Dataset，一个Dataset可能包含多个波段\n",
    "band = ds.GetRasterBand(1) #得到第一个波段\n",
    "data = band.ReadAsArray()\n",
    "print(data)\n",
    "print(type(data))"
   ]
  },
  {
   "cell_type": "code",
   "execution_count": 57,
   "metadata": {},
   "outputs": [
    {
     "data": {
      "text/plain": [
       "array([[43, 40, 38, 37, 38, 38, 37, 37, 38, 37],\n",
       "       [40, 39, 39, 37, 37, 38, 38, 37, 36, 35],\n",
       "       [44, 43, 43, 40, 39, 40, 41, 39, 37, 37],\n",
       "       [51, 48, 44, 41, 39, 42, 47, 44, 40, 38],\n",
       "       [46, 44, 40, 40, 43, 43, 46, 47, 45, 45]], dtype=int16)"
      ]
     },
     "execution_count": 57,
     "metadata": {},
     "output_type": "execute_result"
    }
   ],
   "source": [
    "band.ReadAsArray(350,350,10,5)   #按窗口读取，band.ReadAsArray(xoff=0, yoff=0, win_xsize=None, win_ysize=None...)"
   ]
  },
  {
   "cell_type": "code",
   "execution_count": 58,
   "metadata": {},
   "outputs": [],
   "source": [
    "%matplotlib inline"
   ]
  },
  {
   "cell_type": "code",
   "execution_count": 59,
   "metadata": {},
   "outputs": [
    {
     "data": {
      "text/plain": [
       "<matplotlib.image.AxesImage at 0x2396beeabe0>"
      ]
     },
     "execution_count": 59,
     "metadata": {},
     "output_type": "execute_result"
    },
    {
     "data": {
      "image/png": "[encoded data removed]",
      "text/plain": [
       "<Figure size 432x288 with 1 Axes>"
      ]
     },
     "metadata": {
      "needs_background": "light"
     },
     "output_type": "display_data"
    }
   ],
   "source": [
    "import matplotlib.pyplot as plt\n",
    "plt.imshow(data)"
   ]
  },
  {
   "cell_type": "code",
   "execution_count": 60,
   "metadata": {},
   "outputs": [
    {
     "data": {
      "text/plain": [
       "(116.35541727201625,\n",
       " 0.0008333333333333313,\n",
       " 0.0,\n",
       " 31.888750581135195,\n",
       " 0.0,\n",
       " -0.0008333333333333287)"
      ]
     },
     "execution_count": 60,
     "metadata": {},
     "output_type": "execute_result"
    }
   ],
   "source": [
    "geotrans = ds.GetGeoTransform()\n",
    "geotrans"
   ]
  },
  {
   "cell_type": "markdown",
   "metadata": {},
   "source": [
    "GetGeoTransform函数的返回参数是仿射变换的参数，对于一个上方为正北的影像，参数的意义如下：\n",
    "\n",
    "adfGeoTransform[0] /* top left x */\n",
    "\n",
    "adfGeoTransform[1] /* w-e pixel resolution */\n",
    "\n",
    "adfGeoTransform[2] /* 0 */\n",
    "\n",
    "adfGeoTransform[3] /* top left y */\n",
    "\n",
    "adfGeoTransform[4] /* 0 */\n",
    "\n",
    "adfGeoTransform[5] /* n-s pixel resolution (negative value) */\n"
   ]
  },
  {
   "cell_type": "code",
   "execution_count": 62,
   "metadata": {},
   "outputs": [
    {
     "data": {
      "text/plain": [
       "'GEOGCS[\"WGS 84\",DATUM[\"WGS_1984\",SPHEROID[\"WGS 84\",6378137,298.257223563,AUTHORITY[\"EPSG\",\"7030\"]],AUTHORITY[\"EPSG\",\"6326\"]],PRIMEM[\"Greenwich\",0],UNIT[\"degree\",0.0174532925199433,AUTHORITY[\"EPSG\",\"9122\"]],AXIS[\"Latitude\",NORTH],AXIS[\"Longitude\",EAST],AUTHORITY[\"EPSG\",\"4326\"]]'"
      ]
     },
     "execution_count": 62,
     "metadata": {},
     "output_type": "execute_result"
    }
   ],
   "source": [
    "proj_info = ds.GetProjection()  #得到投影信息\n",
    "proj_info"
   ]
  },
  {
   "cell_type": "code",
   "execution_count": 63,
   "metadata": {},
   "outputs": [
    {
     "data": {
      "text/plain": [
       "1"
      ]
     },
     "execution_count": 63,
     "metadata": {},
     "output_type": "execute_result"
    }
   ],
   "source": [
    "ds.RasterCount      #波段数"
   ]
  },
  {
   "cell_type": "code",
   "execution_count": 64,
   "metadata": {},
   "outputs": [
    {
     "data": {
      "text/plain": [
       "(698, 940)"
      ]
     },
     "execution_count": 64,
     "metadata": {},
     "output_type": "execute_result"
    }
   ],
   "source": [
    "n_rows, n_cols = band.YSize, band.XSize #行列数\n",
    "n_rows, n_cols"
   ]
  },
  {
   "cell_type": "code",
   "execution_count": 65,
   "metadata": {},
   "outputs": [
    {
     "data": {
      "text/plain": [
       "-32767.0"
      ]
     },
     "execution_count": 65,
     "metadata": {},
     "output_type": "execute_result"
    }
   ],
   "source": [
    "nodata_value = band.GetNoDataValue()  #空值\n",
    "nodata_value"
   ]
  },
  {
   "cell_type": "code",
   "execution_count": 66,
   "metadata": {},
   "outputs": [
    {
     "data": {
      "text/plain": [
       "(400.0, 1.0)"
      ]
     },
     "execution_count": 66,
     "metadata": {},
     "output_type": "execute_result"
    }
   ],
   "source": [
    "band.GetMaximum(), band.GetMinimum()"
   ]
  },
  {
   "cell_type": "code",
   "execution_count": 67,
   "metadata": {},
   "outputs": [
    {
     "data": {
      "text/plain": [
       "(520, 1)"
      ]
     },
     "execution_count": 67,
     "metadata": {},
     "output_type": "execute_result"
    }
   ],
   "source": [
    "data = band.ReadAsArray()\n",
    "np.max(data), np.min(data)"
   ]
  },
  {
   "cell_type": "code",
   "execution_count": 68,
   "metadata": {
    "scrolled": true
   },
   "outputs": [
    {
     "data": {
      "text/plain": [
       "(3, 3)"
      ]
     },
     "execution_count": 68,
     "metadata": {},
     "output_type": "execute_result"
    }
   ],
   "source": [
    "band.DataType, gdal.GDT_Int16  #band.DataType是该波段的数据类型，为枚举型，这里的6代表gdal.GDT_Float32。gdal.GDT_ 开头的是gdal中的数据类型"
   ]
  },
  {
   "cell_type": "code",
   "execution_count": 69,
   "metadata": {},
   "outputs": [
    {
     "data": {
      "text/plain": [
       "5"
      ]
     },
     "execution_count": 69,
     "metadata": {},
     "output_type": "execute_result"
    }
   ],
   "source": [
    "gdal.GDT_Int32"
   ]
  },
  {
   "cell_type": "markdown",
   "metadata": {},
   "source": [
    "### 3.2.2 写文件"
   ]
  },
  {
   "cell_type": "code",
   "execution_count": 70,
   "metadata": {},
   "outputs": [
    {
     "data": {
      "text/plain": [
       "True"
      ]
     },
     "execution_count": 70,
     "metadata": {},
     "output_type": "execute_result"
    }
   ],
   "source": [
    "import os\n",
    "f_name = r'D:\\course\\open-source-gis\\2017\\notebook\\data\\test5.tiff'\n",
    "os.path.exists(f_name)"
   ]
  },
  {
   "cell_type": "code",
   "execution_count": 71,
   "metadata": {},
   "outputs": [],
   "source": [
    "driver = gdal.GetDriverByName(\"GTiff\")\n",
    "ds_out = driver.Create(f_name, n_cols, n_rows, 1, gdal.GDT_Float32)"
   ]
  },
  {
   "cell_type": "code",
   "execution_count": 59,
   "metadata": {},
   "outputs": [
    {
     "name": "stdout",
     "output_type": "stream",
     "text": [
      "Help on method Create in module osgeo.gdal:\n",
      "\n",
      "Create(*args, **kwargs) method of osgeo.gdal.Driver instance\n",
      "    Create(Driver self, char const * utf8_path, int xsize, int ysize, int bands=1, GDALDataType eType, char ** options=None) -> Dataset\n",
      "\n"
     ]
    }
   ],
   "source": [
    "help(driver.Create)"
   ]
  },
  {
   "cell_type": "code",
   "execution_count": 72,
   "metadata": {},
   "outputs": [],
   "source": [
    "ds_out.SetGeoTransform(geotrans)\n",
    "ds_out.SetProjection(proj_info)\n",
    "band_out = ds_out.GetRasterBand(1)\n",
    "band_out.SetNoDataValue(nodata_value)\n",
    "band_out.WriteArray(data)\n",
    "ds_out.FlushCache()\n",
    "ds_out = None"
   ]
  },
  {
   "cell_type": "markdown",
   "metadata": {
    "collapsed": true
   },
   "source": [
    "### 作业\n",
    "\n",
    "1. 读取一个tif文件，做四等分，并输出四个tif文件。\n"
   ]
  },
  {
   "cell_type": "code",
   "execution_count": null,
   "metadata": {},
   "outputs": [],
   "source": []
  },
  {
   "cell_type": "code",
   "execution_count": null,
   "metadata": {},
   "outputs": [],
   "source": []
  },
  {
   "cell_type": "code",
   "execution_count": null,
   "metadata": {},
   "outputs": [],
   "source": []
  }
 ],
 "metadata": {
  "kernelspec": {
   "display_name": "Python 3 (ipykernel)",
   "language": "python",
   "name": "python3"
  },
  "language_info": {
   "codemirror_mode": {
    "name": "ipython",
    "version": 3
   },
   "file_extension": ".py",
   "mimetype": "text/x-python",
   "name": "python",
   "nbconvert_exporter": "python",
   "pygments_lexer": "ipython3",
   "version": "3.9.7"
  }
 },
 "nbformat": 4,
 "nbformat_minor": 2
}
